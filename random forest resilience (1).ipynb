{
 "cells": [
  {
   "cell_type": "code",
   "execution_count": 1,
   "id": "7789a311",
   "metadata": {},
   "outputs": [],
   "source": [
    "import pandas as pd\n",
    "import numpy as np\n",
    "import matplotlib.pyplot as plt\n",
    "import seaborn as sns\n"
   ]
  },
  {
   "cell_type": "code",
   "execution_count": 2,
   "id": "e035549e",
   "metadata": {},
   "outputs": [
    {
     "data": {
      "text/html": [
       "<div>\n",
       "<style scoped>\n",
       "    .dataframe tbody tr th:only-of-type {\n",
       "        vertical-align: middle;\n",
       "    }\n",
       "\n",
       "    .dataframe tbody tr th {\n",
       "        vertical-align: top;\n",
       "    }\n",
       "\n",
       "    .dataframe thead th {\n",
       "        text-align: right;\n",
       "    }\n",
       "</style>\n",
       "<table border=\"1\" class=\"dataframe\">\n",
       "  <thead>\n",
       "    <tr style=\"text-align: right;\">\n",
       "      <th></th>\n",
       "      <th>ST004D01T</th>\n",
       "      <th>IC001Q04TA</th>\n",
       "      <th>ESCS</th>\n",
       "      <th>WEALTH</th>\n",
       "      <th>EMOSUPS</th>\n",
       "      <th>GFOFAIL</th>\n",
       "      <th>SWBP</th>\n",
       "      <th>RESILIENCE</th>\n",
       "      <th>BELONG</th>\n",
       "    </tr>\n",
       "  </thead>\n",
       "  <tbody>\n",
       "    <tr>\n",
       "      <th>0</th>\n",
       "      <td>1</td>\n",
       "      <td>2.0</td>\n",
       "      <td>-1.9067</td>\n",
       "      <td>-1.3354</td>\n",
       "      <td>-0.6576</td>\n",
       "      <td>1.1422</td>\n",
       "      <td>-0.5928</td>\n",
       "      <td>-0.8547</td>\n",
       "      <td>-1.3850</td>\n",
       "    </tr>\n",
       "    <tr>\n",
       "      <th>1</th>\n",
       "      <td>1</td>\n",
       "      <td>2.0</td>\n",
       "      <td>-1.9768</td>\n",
       "      <td>-1.3359</td>\n",
       "      <td>-1.3914</td>\n",
       "      <td>0.4637</td>\n",
       "      <td>0.7301</td>\n",
       "      <td>-0.8738</td>\n",
       "      <td>-0.6765</td>\n",
       "    </tr>\n",
       "    <tr>\n",
       "      <th>2</th>\n",
       "      <td>1</td>\n",
       "      <td>1.0</td>\n",
       "      <td>-2.5606</td>\n",
       "      <td>-1.4253</td>\n",
       "      <td>-0.6576</td>\n",
       "      <td>1.3423</td>\n",
       "      <td>-1.3186</td>\n",
       "      <td>-1.0974</td>\n",
       "      <td>-1.0425</td>\n",
       "    </tr>\n",
       "    <tr>\n",
       "      <th>3</th>\n",
       "      <td>2</td>\n",
       "      <td>1.0</td>\n",
       "      <td>-0.3868</td>\n",
       "      <td>-1.1210</td>\n",
       "      <td>-1.5824</td>\n",
       "      <td>1.1422</td>\n",
       "      <td>-1.8489</td>\n",
       "      <td>-1.2865</td>\n",
       "      <td>-1.0654</td>\n",
       "    </tr>\n",
       "    <tr>\n",
       "      <th>4</th>\n",
       "      <td>2</td>\n",
       "      <td>1.0</td>\n",
       "      <td>-1.2306</td>\n",
       "      <td>-0.9500</td>\n",
       "      <td>-0.6576</td>\n",
       "      <td>-0.6870</td>\n",
       "      <td>-0.5928</td>\n",
       "      <td>-0.0614</td>\n",
       "      <td>-0.4450</td>\n",
       "    </tr>\n",
       "  </tbody>\n",
       "</table>\n",
       "</div>"
      ],
      "text/plain": [
       "   ST004D01T  IC001Q04TA    ESCS  WEALTH  EMOSUPS  GFOFAIL    SWBP  \\\n",
       "0          1         2.0 -1.9067 -1.3354  -0.6576   1.1422 -0.5928   \n",
       "1          1         2.0 -1.9768 -1.3359  -1.3914   0.4637  0.7301   \n",
       "2          1         1.0 -2.5606 -1.4253  -0.6576   1.3423 -1.3186   \n",
       "3          2         1.0 -0.3868 -1.1210  -1.5824   1.1422 -1.8489   \n",
       "4          2         1.0 -1.2306 -0.9500  -0.6576  -0.6870 -0.5928   \n",
       "\n",
       "   RESILIENCE  BELONG  \n",
       "0     -0.8547 -1.3850  \n",
       "1     -0.8738 -0.6765  \n",
       "2     -1.0974 -1.0425  \n",
       "3     -1.2865 -1.0654  \n",
       "4     -0.0614 -0.4450  "
      ]
     },
     "execution_count": 2,
     "metadata": {},
     "output_type": "execute_result"
    }
   ],
   "source": [
    "columns = ['ST004D01T','IC001Q04TA','ESCS','WEALTH','EMOSUPS','GFOFAIL','SWBP','RESILIENCE','BELONG']\n",
    "data = pd.read_csv(\"Downloads/data5.csv\",usecols=columns) \n",
    "data.head()"
   ]
  },
  {
   "cell_type": "code",
   "execution_count": 3,
   "id": "21b1699a",
   "metadata": {},
   "outputs": [],
   "source": [
    "df = pd.DataFrame(data)\n",
    "df = df.replace(r'^\\s*$', np.nan, regex=True)\n",
    "df = df.dropna() # drop all nan\n"
   ]
  },
  {
   "cell_type": "code",
   "execution_count": 6,
   "id": "0cace628",
   "metadata": {},
   "outputs": [],
   "source": [
    "df = pd.DataFrame(data)\n",
    "X = df[df.columns[~df.columns.isin(['RESILIENCE'])]]\n",
    "Y = df['RESILIENCE']\n",
    "x_train, x_test, y_train, y_test = train_test_split(X, Y.astype('float'), test_size=0.20, random_state=53)"
   ]
  },
  {
   "cell_type": "code",
   "execution_count": 5,
   "id": "d7f26939",
   "metadata": {},
   "outputs": [],
   "source": [
    "from sklearn.ensemble import RandomForestRegressor\n",
    "from sklearn.model_selection import train_test_split\n",
    "import matplotlib.pyplot as plt\n",
    "from sklearn.metrics import r2_score\n",
    "from sklearn.metrics import mean_squared_error"
   ]
  },
  {
   "cell_type": "code",
   "execution_count": 7,
   "id": "fd795c38",
   "metadata": {},
   "outputs": [
    {
     "data": {
      "text/plain": [
       "0.2507819509184811"
      ]
     },
     "execution_count": 7,
     "metadata": {},
     "output_type": "execute_result"
    }
   ],
   "source": [
    "regressor = RandomForestRegressor(n_estimators = 100, max_depth = 20, oob_score = True, random_state = 42, max_features = \"auto\", min_samples_leaf = 25)\n",
    "regressor.fit(x_train, y_train)\n",
    "y_pred = regressor.predict(x_test)\n",
    "    \n",
    "mean_squared_error(y_test, y_pred)\n",
    "r2_score(y_test, y_pred)"
   ]
  },
  {
   "cell_type": "code",
   "execution_count": null,
   "id": "f89bc2f5",
   "metadata": {},
   "outputs": [],
   "source": [
    "regressor = RandomForestRegressor(n_estimators = 100, max_depth = 20, oob_score = True, random_state = 42, max_features = \"auto\", min_samples_leaf = 25)\n",
    "regressor.fit(x_train, y_train)\n",
    "y_pred = regressor.predict(x_test)\n",
    "    \n",
    "mean_squared_error(y_test, y_pred)"
   ]
  },
  {
   "cell_type": "code",
   "execution_count": 9,
   "id": "f78c14b8",
   "metadata": {},
   "outputs": [
    {
     "data": {
      "image/png": "[encoded data removed]",
      "text/plain": [
       "<Figure size 432x288 with 1 Axes>"
      ]
     },
     "metadata": {
      "needs_background": "light"
     },
     "output_type": "display_data"
    }
   ],
   "source": [
    "training_scores=[]\n",
    "testing_scores=[]\n",
    "depths = 20\n",
    "for depth in range(1,depths):\n",
    "    regressor = RandomForestRegressor(n_estimators = 100, max_depth = depth, oob_score = True, random_state = 42, max_features = \"auto\", min_samples_leaf = 50)\n",
    "    regressor.fit(x_train, y_train)\n",
    "    training_scores.append(regressor.score(x_train,y_train))\n",
    "    testing_scores.append(regressor.score(x_test,y_test))\n",
    "\n",
    "fig=plt.figure()\n",
    "depths=np.arange(1,depths)\n",
    "ax=fig.add_subplot(1,1,1)\n",
    "ax.plot(depths,training_scores,label=\"traing score\")\n",
    "ax.plot(depths,testing_scores,label=\"testing score\")\n",
    "ax.set_xlabel(\"maxdepth\")\n",
    "ax.set_ylabel(\"score\")\n",
    "ax.set_title(\"Random Forest Regression\")\n",
    "ax.legend(framealpha=0.5)\n",
    "plt.show()"
   ]
  },
  {
   "cell_type": "code",
   "execution_count": null,
   "id": "e42643e5",
   "metadata": {},
   "outputs": [],
   "source": []
  },
  {
   "cell_type": "code",
   "execution_count": null,
   "id": "6aacb27d",
   "metadata": {},
   "outputs": [],
   "source": []
  }
 ],
 "metadata": {
  "kernelspec": {
   "display_name": "Python 3 (ipykernel)",
   "language": "python",
   "name": "python3"
  },
  "language_info": {
   "codemirror_mode": {
    "name": "ipython",
    "version": 3
   },
   "file_extension": ".py",
   "mimetype": "text/x-python",
   "name": "python",
   "nbconvert_exporter": "python",
   "pygments_lexer": "ipython3",
   "version": "3.9.12"
  }
 },
 "nbformat": 4,
 "nbformat_minor": 5
}
