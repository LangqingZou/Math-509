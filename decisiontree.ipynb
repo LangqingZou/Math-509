{
  "nbformat": 4,
  "nbformat_minor": 0,
  "metadata": {
    "colab": {
      "provenance": []
    },
    "kernelspec": {
      "name": "python3",
      "display_name": "Python 3"
    },
    "language_info": {
      "name": "python"
    }
  },
  "cells": [
    {
      "cell_type": "code",
      "execution_count": 2,
      "metadata": {
        "colab": {
          "base_uri": "https://localhost:8080/"
        },
        "id": "BH0P653QnwG6",
        "outputId": "68ff973b-623f-4f84-bdad-31ef3393acd9"
      },
      "outputs": [
        {
          "output_type": "stream",
          "name": "stdout",
          "text": [
            "Mounted at /content/drive\n"
          ]
        }
      ],
      "source": [
        "from google.colab import drive\n",
        "drive.mount('/content/drive')"
      ]
    },
    {
      "cell_type": "code",
      "source": [
        "import pandas as pd\n",
        "import seaborn as sns\n",
        "import numpy as np\n",
        "import pylab as pl\n",
        "import matplotlib.pyplot as plt\n",
        "from sklearn.preprocessing import StandardScaler\n",
        "from sklearn.model_selection import train_test_split\n",
        "from sklearn.metrics import mean_absolute_error, mean_squared_error, r2_score\n",
        "from sklearn.tree import DecisionTreeRegressor\n",
        "from sklearn.metrics import explained_variance_score\n",
        "from sklearn.model_selection import cross_val_score\n",
        "from sklearn.metrics import make_scorer\n",
        "from sklearn.model_selection import GridSearchCV"
      ],
      "metadata": {
        "id": "xR0lKINlH-mw"
      },
      "execution_count": 3,
      "outputs": []
    },
    {
      "cell_type": "code",
      "source": [
        "data = pd.read_csv('drive/MyDrive/data/data5.csv')\n",
        "df = pd.DataFrame(data)\n",
        "X = df[df.columns[~df.columns.isin(['weight','RESILIENCE'])]]\n",
        "Y = df['RESILIENCE']\n",
        "x_train, x_test, y_train, y_test = train_test_split(X, Y.astype('float'), test_size=0.20, random_state=53)"
      ],
      "metadata": {
        "id": "U9RYAiC9H-tv"
      },
      "execution_count": 4,
      "outputs": []
    },
    {
      "cell_type": "code",
      "source": [
        "tr_regressor = DecisionTreeRegressor(max_depth=10,random_state=53)\n",
        "tr_regressor.fit(x_train,y_train)\n",
        "score_train = tr_regressor.score(x_train,y_train) # R-squared\n",
        "score_test = decision_score = tr_regressor.score(x_test,y_test)\n",
        "pred_tr = tr_regressor.predict(x_test) #predicting and accuracy\n",
        "expl_tr = explained_variance_score(pred_tr,y_test) # the accuracy of the decision tree\n",
        "mse = mean_squared_error(y_test, pred_tr)  # check the accuracy of predicted data by using MSE and RMSE metrics."
      ],
      "metadata": {
        "id": "7QSZsgG0H-x6"
      },
      "execution_count": 5,
      "outputs": []
    },
    {
      "cell_type": "code",
      "source": [
        "print(\"Decision tree  Regression Model Score on training set is \",score_train)\n",
        "print(\"Decision tree  Regression Model Score on testing set is \",score_test)\n",
        "print(\"MSE: \", mse)\n",
        "print(\"RMSE: \", mse**(1/2.0)) "
      ],
      "metadata": {
        "colab": {
          "base_uri": "https://localhost:8080/"
        },
        "id": "wVmgLl9hH-1b",
        "outputId": "41032206-b31a-4cf2-f3c2-0605d1f33f36"
      },
      "execution_count": 6,
      "outputs": [
        {
          "output_type": "stream",
          "name": "stdout",
          "text": [
            "Decision tree  Regression Model Score on training set is  0.33068019770381807\n",
            "Decision tree  Regression Model Score on testing set is  0.1772124642945906\n",
            "MSE:  0.6552085975563707\n",
            "RMSE:  0.8094495645538212\n"
          ]
        }
      ]
    },
    {
      "cell_type": "code",
      "source": [
        "training_scores=[]\n",
        "testing_scores=[]\n",
        "depths = 10\n",
        "for depth in range(1,depths):\n",
        "    regr = DecisionTreeRegressor(max_depth=depth)\n",
        "    regr.fit(x_train, y_train)\n",
        "    training_scores.append(regr.score(x_train,y_train))\n",
        "    testing_scores.append(regr.score(x_test,y_test))\n",
        "\n",
        "fig=plt.figure()\n",
        "depths=np.arange(1,depths)\n",
        "ax=fig.add_subplot(1,1,1)\n",
        "ax.plot(depths,training_scores,label=\"traing score\")\n",
        "ax.plot(depths,testing_scores,label=\"testing score\")\n",
        "ax.set_xlabel(\"maxdepth\")\n",
        "ax.set_ylabel(\"score\")\n",
        "ax.set_title(\"Decision Tree Regression\")\n",
        "ax.legend(framealpha=0.5)\n",
        "plt.show()"
      ],
      "metadata": {
        "colab": {
          "base_uri": "https://localhost:8080/",
          "height": 295
        },
        "id": "zg9Xwbh0H-81",
        "outputId": "7e53156e-ab51-4daf-a560-0473eae64994"
      },
      "execution_count": 7,
      "outputs": [
        {
          "output_type": "display_data",
          "data": {
            "text/plain": [
              "<Figure size 432x288 with 1 Axes>"
            ],
            "image/png": "[encoded data removed]"
          },
          "metadata": {
            "needs_background": "light"
          }
        }
      ]
    },
    {
      "cell_type": "markdown",
      "source": [
        "Hyperparameter tuning for decision tree regression"
      ],
      "metadata": {
        "id": "TwInIXe4f9Tq"
      }
    },
    {
      "cell_type": "markdown",
      "source": [
        "Using k-fold cross-validation"
      ],
      "metadata": {
        "id": "hnpalS3xgDCY"
      }
    },
    {
      "cell_type": "code",
      "source": [
        "tr_regressor = DecisionTreeRegressor()\n",
        "\n",
        "gs = GridSearchCV(tr_regressor,\n",
        "                  param_grid = {'max_depth': range(1, 11),\n",
        "                                'min_samples_split': range(10, 60, 10)},\n",
        "                  cv=5,\n",
        "                  n_jobs=1,\n",
        "                  scoring='neg_mean_squared_error')\n",
        "\n",
        "gs.fit(x_train, y_train)\n",
        "\n",
        "print(gs.best_params_)\n",
        "print(-gs.best_score_)"
      ],
      "metadata": {
        "colab": {
          "base_uri": "https://localhost:8080/"
        },
        "id": "o2bFOpsff1zC",
        "outputId": "671149ce-2e3c-40b3-e922-116c91fb1127"
      },
      "execution_count": 8,
      "outputs": [
        {
          "output_type": "stream",
          "name": "stdout",
          "text": [
            "{'max_depth': 7, 'min_samples_split': 40}\n",
            "0.6214265779248103\n"
          ]
        }
      ]
    },
    {
      "cell_type": "code",
      "source": [
        "#The best regressor: {'criterion': 'squared_error', 'max_depth': 7, 'min_samples_leaf': 28, 'min_samples_split': 5} The best score: 0.22262656276481244"
      ],
      "metadata": {
        "id": "h6gu3zv1t7Dk"
      },
      "execution_count": null,
      "outputs": []
    },
    {
      "cell_type": "code",
      "source": [
        "model = DecisionTreeRegressor(criterion = 'squared_error', max_depth = 7, min_samples_leaf = 28, min_samples_split = 5, random_state=53)\n",
        "model.fit(x_train,y_train)\n",
        "new_score_train = model.score(x_train,y_train) # R-squared\n",
        "new_score_test = decision_score = model.score(x_test,y_test)\n",
        "new_pred_tr = model.predict(x_test) #predicting and accuracy\n",
        "new_expl_tr = explained_variance_score(new_pred_tr,y_test) # the accuracy of the decision tree\n",
        "new_mse = mean_squared_error(y_test, new_pred_tr)"
      ],
      "metadata": {
        "id": "r_I-tQYbf1-T"
      },
      "execution_count": 9,
      "outputs": []
    },
    {
      "cell_type": "code",
      "source": [
        "print(\"Decision tree  Regression Model Score on training set is \", new_score_train)\n",
        "print(\"Decision tree  Regression Model Score on testing set is \", new_score_test)\n",
        "print(\"MSE: \", new_mse)\n",
        "print(\"RMSE: \", new_mse**(1/2.0)) "
      ],
      "metadata": {
        "colab": {
          "base_uri": "https://localhost:8080/"
        },
        "id": "Iz_14lZ-f2KN",
        "outputId": "789d1b80-1856-4f12-ed24-5bac7ebb3b46"
      },
      "execution_count": 10,
      "outputs": [
        {
          "output_type": "stream",
          "name": "stdout",
          "text": [
            "Decision tree  Regression Model Score on training set is  0.24921138717208724\n",
            "Decision tree  Regression Model Score on testing set is  0.22224829336452834\n",
            "MSE:  0.6193453143584745\n",
            "RMSE:  0.7869849517992542\n"
          ]
        }
      ]
    },
    {
      "cell_type": "markdown",
      "source": [
        "cross validation with $r^2$"
      ],
      "metadata": {
        "id": "EAnmb0VK5Pcc"
      }
    },
    {
      "cell_type": "code",
      "source": [
        "dt = DecisionTreeRegressor(random_state=53, criterion='absolute_error')\n",
        "dt_fit = dt.fit(x_train, y_train)\n",
        "\n",
        "dt_scores = cross_val_score(dt_fit, x_train, y_train, cv = 5)\n",
        "print(\"mean cross validation score: {}\".format(np.mean(dt_scores)))\n",
        "print(\"score without cv: {}\".format(dt_fit.score(x_train, y_train)))\n",
        "\n",
        "# on the test or hold-out set\n",
        "from sklearn.metrics import r2_score\n",
        "print(r2_score(y_test, dt_fit.predict(x_test)))\n",
        "print(dt_fit.score(x_test, y_test))"
      ],
      "metadata": {
        "id": "DMIRDAdcvgWi"
      },
      "execution_count": null,
      "outputs": []
    },
    {
      "cell_type": "code",
      "source": [
        "scoring = make_scorer(r2_score)\n",
        "g_cv = GridSearchCV(DecisionTreeRegressor(random_state=0),\n",
        "              param_grid={'min_samples_split': range(2, 10)},\n",
        "              scoring=scoring, cv=5, refit=True)\n",
        "\n",
        "g_cv.fit(x_train, y_train)\n",
        "g_cv.best_params_\n",
        "\n",
        "result = g_cv.cv_results_\n",
        "#print(result)\n",
        "r2_score(y_test, g_cv.best_estimator_.predict(x_test))"
      ],
      "metadata": {
        "colab": {
          "base_uri": "https://localhost:8080/"
        },
        "id": "-iAEN16tvUuD",
        "outputId": "bf077954-ec6e-4115-f58b-d8835215ef9c"
      },
      "execution_count": 12,
      "outputs": [
        {
          "output_type": "execute_result",
          "data": {
            "text/plain": [
              "-0.2580160122682609"
            ]
          },
          "metadata": {},
          "execution_count": 12
        }
      ]
    },
    {
      "cell_type": "code",
      "source": [],
      "metadata": {
        "id": "Bf-2WvG2vU14"
      },
      "execution_count": null,
      "outputs": []
    }
  ]
}